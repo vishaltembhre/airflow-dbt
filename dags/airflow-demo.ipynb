{
 "cells": [
  {
   "cell_type": "code",
   "execution_count": null,
   "metadata": {},
   "outputs": [],
   "source": [
    "from datetime import datetime\n",
    "\n",
    "from airflow import DAG\n",
    "from airflow.decorators import task\n",
    "from airflow.operators.bash import BashOperator\n",
    "\n",
    "# A DAG represents a workflow, a collection of tasks\n",
    "with DAG(dag_id=\"Airflow-first-DAG\", start_date=datetime(2022, 1, 1), schedule=\"0 0 * * *\") as dag:\n",
    "    # Tasks are represented as operators\n",
    "    hello = BashOperator(task_id=\"hello\", bash_command=\"echo hello\")\n",
    "\n",
    "    @task()\n",
    "    def airflow():\n",
    "        print(\"airflow-first-data-pipeline\")\n",
    "\n",
    "    # Set dependencies between tasks\n",
    "    hello >> airflow()"
   ]
  }
 ],
 "metadata": {
  "kernelspec": {
   "display_name": "venvProj",
   "language": "python",
   "name": "python3"
  },
  "language_info": {
   "name": "python",
   "version": "3.11.3"
  }
 },
 "nbformat": 4,
 "nbformat_minor": 2
}
